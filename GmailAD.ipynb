{
  "nbformat": 4,
  "nbformat_minor": 0,
  "metadata": {
    "colab": {
      "name": "Untitled",
      "provenance": [],
      "collapsed_sections": [],
      "authorship_tag": "ABX9TyOv9xePhvVUw1VGI0xojtJb",
      "include_colab_link": true
    },
    "kernelspec": {
      "name": "python3",
      "display_name": "Python 3"
    },
    "language_info": {
      "name": "python"
    }
  },
  "cells": [
    {
      "cell_type": "markdown",
      "metadata": {
        "id": "view-in-github",
        "colab_type": "text"
      },
      "source": [
        "<a href=\"https://colab.research.google.com/github/ksomesh/Libraries/blob/master/GmailAD.ipynb\" target=\"_parent\"><img src=\"https://colab.research.google.com/assets/colab-badge.svg\" alt=\"Open In Colab\"/></a>"
      ]
    },
    {
      "cell_type": "code",
      "execution_count": null,
      "metadata": {
        "id": "fjvYNsEKu5rd"
      },
      "outputs": [],
      "source": [
        "import csv\n",
        "import smtplib\n",
        "import time\n",
        "import ssl\n",
        "from email.message import EmailMessage\n",
        "from email.mime.multipart import MIMEMultipart\n",
        "from email.mime.text import MIMEText\n",
        "\n",
        "msg = '''hello\\n\n",
        "this is my mail.\\n\n",
        "regards\\n\n",
        "AB'''\n",
        "//\"email1@gmail.com\",\"pwd1\",\"name1\",\"sendto1@gmail.com\" \n",
        "//Use APP password after creating them through https://support.google.com/accounts/answer/185833?hl=en\n",
        "with open (r\"D:\\Personal\\xlsxl.csv\") as file:\n",
        "    reader = csv.reader(file)\n",
        "    for sender,password,name,addr in reader:\n",
        "        try:\n",
        "            print(f'{sender}, {password}, {name}, {addr}')\n",
        "            message = MIMEMultipart()\n",
        "            message['From'] = sender\n",
        "            message['To'] = addr\n",
        "            message['Subject'] = 'A test mail sent by Python. It has an attachment.'   #The subject line\n",
        "            message.attach(MIMEText(msg, 'plain'))\n",
        "            session = smtplib.SMTP('smtp.gmail.com', 587) #use gmail with port\n",
        "            session.starttls() #enable security\n",
        "            session.login(sender, password) #login with mail_id and password\n",
        "            text = message.as_string()\n",
        "            session.sendmail(sender, addr, text)\n",
        "            session.quit()\n",
        "            print('Mail Sent')\n",
        "        except:\n",
        "            print(f\"Failed to send mail to {addr}\")\n",
        "            continue"
      ]
    }
  ]
}